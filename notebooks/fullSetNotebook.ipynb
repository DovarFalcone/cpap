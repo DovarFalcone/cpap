{
 "cells": [
  {
   "cell_type": "code",
   "execution_count": null,
   "metadata": {},
   "outputs": [],
   "source": [
    "# -*- coding: utf-8 -*-\n",
    "__author__ = 'Ryan Boncheff'\n",
    "__copyright__ = 'Ryan Boncheff'\n",
    "__credits__ = None\n",
    "__license__ = 'GNU General Public License v3.0'\n",
    "__version__ = 'A001'\n",
    "__maintainer__ =  'Ryan Boncheff'\n",
    "__email__ = 'ryanboncheff@gmail.com'\n",
    "__status__ = 'Alpha'\n",
    "\n",
    "'''\n",
    "Runs:\n",
    "    detailsPuller.py\n",
    "    wavePuller.py\n",
    "    eventPuller.py\n",
    "\n",
    "Resultant CSVs will be generated in the PAP_CODE folder\n",
    "See readme for full description of each script\n",
    "\n",
    "Before running this script:\n",
    "    Set dbPath to the location of your iMatrix db\n",
    "    Set eventPath to the location of your SD card\n",
    "'''\n",
    "\n",
    "dbPath = r'C:\\Users\\dfurt\\Documents\\iMatrix\\PATIENT\\000001\\000001_patient.db'\n",
    "sdPath = r'E:\\testprojects\\cpapDataSDCARD\\THERAPY\\RECORD'\n",
    "\n",
    "from detailsPuller import detailsPuller\n",
    "from wavePuller import wavePuller\n",
    "from eventPuller import eventPuller\n",
    "\n",
    "def fullSetPuller():\n",
    "    \n",
    "    detailsPuller(dbPath)\n",
    "    #wavePuller(dbPath)\n",
    "    eventPuller(sdPath)\n",
    "\n",
    "\n",
    "if __name__ == '__main__':\n",
    "    fullSetPuller()\n"
   ]
  },
  {
   "cell_type": "code",
   "execution_count": 14,
   "metadata": {},
   "outputs": [],
   "source": [
    "import pandas as pd\n",
    "import matplotlib.pyplot as plt"
   ]
  },
  {
   "cell_type": "code",
   "execution_count": null,
   "metadata": {},
   "outputs": [],
   "source": [
    "detailsdf = pd.DataFrame(detailsPuller(dbPath))\n",
    "eventsdf = pd.DataFrame(eventPuller(sdPath))"
   ]
  },
  {
   "cell_type": "code",
   "execution_count": 25,
   "metadata": {},
   "outputs": [
    {
     "name": "stdout",
     "output_type": "stream",
     "text": [
      "        Session_Start Usage_sec           Timestamp           Category  \\\n",
      "0 2022-08-30 18:23:26     26533 2022-08-30 23:03:37    Flow Limitation   \n",
      "1 2022-08-30 18:23:26     26533 2022-08-30 23:15:26  Obstructive Apnea   \n",
      "2 2022-08-30 18:23:26     26533 2022-08-30 23:23:14           Hypopnea   \n",
      "3 2022-08-30 18:23:26     26533 2022-08-30 23:24:55  Obstructive Apnea   \n",
      "4 2022-08-30 18:23:26     26533 2022-08-30 23:32:20  Obstructive Apnea   \n",
      "\n",
      "  Duration_sec  \n",
      "0            8  \n",
      "1           16  \n",
      "2           20  \n",
      "3           14  \n",
      "4           16  \n"
     ]
    }
   ],
   "source": [
    "print(eventsdf.head(5))"
   ]
  },
  {
   "cell_type": "code",
   "execution_count": 26,
   "metadata": {},
   "outputs": [
    {
     "name": "stdout",
     "output_type": "stream",
     "text": [
      "        date           timestamp  Pressure  IPAP  EPAP       Leak      Vt  \\\n",
      "0 2022-08-30 2022-08-30 18:23:26      4.54  4.56  2.99   0.000000  1918.0   \n",
      "1 2022-08-30 2022-08-30 18:23:28      3.13  4.59  2.92   0.000000  1918.0   \n",
      "2 2022-08-30 2022-08-30 18:23:30      3.00  3.03  2.87  20.800001  1918.0   \n",
      "3 2022-08-30 2022-08-30 18:23:32      3.00  3.16  2.97  38.799999  3000.0   \n",
      "4 2022-08-30 2022-08-30 18:23:34      3.00  3.16  2.97   0.000000  3000.0   \n",
      "\n",
      "          MV   RR     Ti     IE  \n",
      "0  17.299999  9.0  2.900  0.773  \n",
      "1  17.299999  9.0  2.900  0.773  \n",
      "2  17.299999  9.0  2.900  0.773  \n",
      "3  17.920000  6.0  3.999  1.380  \n",
      "4  17.920000  6.0  3.999  1.380  \n"
     ]
    }
   ],
   "source": [
    "print(detailsdf.head(5))"
   ]
  }
 ],
 "metadata": {
  "kernelspec": {
   "display_name": "cpap",
   "language": "python",
   "name": "python3"
  },
  "language_info": {
   "codemirror_mode": {
    "name": "ipython",
    "version": 3
   },
   "file_extension": ".py",
   "mimetype": "text/x-python",
   "name": "python",
   "nbconvert_exporter": "python",
   "pygments_lexer": "ipython3",
   "version": "3.10.8 | packaged by conda-forge | (main, Nov 24 2022, 14:07:00) [MSC v.1916 64 bit (AMD64)]"
  },
  "orig_nbformat": 4,
  "vscode": {
   "interpreter": {
    "hash": "877f7fe15fa52ee9a2ace81563808f7b40bf7630325a54fb312583a4cd508393"
   }
  }
 },
 "nbformat": 4,
 "nbformat_minor": 2
}
